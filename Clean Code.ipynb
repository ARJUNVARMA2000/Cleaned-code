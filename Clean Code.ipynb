{
 "cells": [
  {
   "cell_type": "markdown",
   "metadata": {},
   "source": [
    "### Data"
   ]
  },
  {
   "cell_type": "code",
   "execution_count": null,
   "metadata": {},
   "outputs": [],
   "source": [
    "'''\n",
    "Expected                            - Actual\n",
    "\n",
    "Nov 10 – 9:00 to 11:00              - Unavailable\n",
    "\n",
    "Nov 10 – 1:10 to 1:30               - Unavailable\n",
    "\n",
    "Nov 16 – 12:45 to 1:05              - None\n",
    "\n",
    "\n",
    "Oct 21 Time on 9:00, time off 10:30 - [13:24,14:17]\n",
    "\n",
    "Oct 22 Time on 1:10. Time off 2:10  - [17:17, 18:07]\n",
    "\n",
    "Oct 23 Time on 10:50, Time off 11:05- None\n",
    "\n",
    "Oct 23 Time on 12:40, Time off 1:55 - None\n",
    "\n",
    "Oct 27 Time on 1:50, Time off 3:00  - Unavailable\n",
    "\n",
    "'''"
   ]
  },
  {
   "cell_type": "markdown",
   "metadata": {},
   "source": [
    "#### Thresholds\n",
    "EC4N0003 - 2.2\n",
    "\n",
    "EC4N0004 - 6\n",
    "\n",
    "EC4N0005 - 5"
   ]
  },
  {
   "cell_type": "markdown",
   "metadata": {},
   "source": [
    "### Single Port(A0)  Single Device(EC4N0003)"
   ]
  },
  {
   "cell_type": "code",
   "execution_count": null,
   "metadata": {},
   "outputs": [],
   "source": []
  },
  {
   "cell_type": "code",
   "execution_count": 3,
   "metadata": {},
   "outputs": [],
   "source": [
    "# Function to read data\n",
    "df = pd.read_csv(\"channel_values.csv\")\n"
   ]
  },
  {
   "cell_type": "markdown",
   "metadata": {},
   "source": [
    "## Function to clean data "
   ]
  },
  {
   "cell_type": "code",
   "execution_count": 2,
   "metadata": {},
   "outputs": [],
   "source": [
    "import pandas as pd\n",
    "import numpy as np\n",
    "import matplotlib.pyplot as plt\n",
    "%matplotlib inline\n",
    "\n",
    "def clean_data(df,device_id,port):\n",
    "\n",
    "    df1 = pd.DataFrame(df.val.str.split(',',3).tolist(),columns = ['v1','dev_id','port','value'])\n",
    "\n",
    "\n",
    "    df1[\"create_ts\"] = df[\"create_ts\"]\n",
    "    df1['create_ts'] = df1['create_ts'].astype('datetime64[ns]')\n",
    "    df1[\"value\"] = df1[\"value\"].str[:-2]\n",
    "    df1[\"value\"] = df1[\"value\"].astype(float)\n",
    "    df1[\"v1\"] = df1[\"v1\"].astype(int)\n",
    "    df1[\"dev_id\"] = df1[\"dev_id\"].astype(str)\n",
    "    df1[\"port\"] = df1[\"port\"].astype(str)\n",
    "\n",
    "    df1[\"dev_id\"] = df1[\"dev_id\"].str[-8:]\n",
    "    df1[\"port\"] = df1.port.str.strip()\n",
    "\n",
    "    df2 = df1[df1[\"port\"]==port]\n",
    "    df30 = df2[df2[\"dev_id\"]== device_id]\n",
    "    return df30\n"
   ]
  },
  {
   "cell_type": "markdown",
   "metadata": {},
   "source": [
    "### Rolling average Function"
   ]
  },
  {
   "cell_type": "code",
   "execution_count": 18,
   "metadata": {},
   "outputs": [],
   "source": [
    "def rolling_avg(df):\n",
    "    df['rolling_avg'] = df['value'].rolling(window=4).mean()\n",
    "    df['pred'] = np.where(df['rolling_avg']>=2.2, 'Running', 'Idle')\n",
    "    return df\n",
    "    #df30.to_csv('Pred-3-A1(test).csv')\n",
    "\n",
    "#df = rolling_avg(df)\n"
   ]
  },
  {
   "cell_type": "markdown",
   "metadata": {},
   "source": [
    "### Single device (EC4N0003) Multiple ports combined"
   ]
  },
  {
   "cell_type": "code",
   "execution_count": 47,
   "metadata": {},
   "outputs": [
    {
     "data": {
      "text/plain": [
       "'\\nimport pandas as pd\\nimport numpy as np\\nimport matplotlib.pyplot as plt\\n%matplotlib inline\\n\\ndf = pd.read_csv(\"channel_values.csv\")\\ndf1 = pd.DataFrame(df.val.str.split(\\',\\',3).tolist(),columns = [\\'v1\\',\\'dev_id\\',\\'port\\',\\'value\\'])\\n\\ndf1[\"create_ts\"] = df[\"create_ts\"]\\ndf1[\\'create_ts\\'] = df1[\\'create_ts\\'].astype(\\'datetime64[ns]\\')\\ndf1[\"value\"] = df1[\"value\"].str[:-2]\\ndf1[\"value\"] = df1[\"value\"].astype(float)\\ndf1[\"v1\"] = df1[\"v1\"].astype(int)\\ndf1[\"dev_id\"] = df1[\"dev_id\"].astype(str)\\ndf1[\"port\"] = df1[\"port\"].astype(str)\\n\\ndf1[\"dev_id\"] = df1[\"dev_id\"].str[-8:]\\ndf1 = df1[df1[\"dev_id\"]==\"EC4N0003\"]\\n'"
      ]
     },
     "execution_count": 47,
     "metadata": {},
     "output_type": "execute_result"
    }
   ],
   "source": [
    "\n",
    "import pandas as pd\n",
    "import numpy as np\n",
    "import matplotlib.pyplot as plt\n",
    "%matplotlib inline\n",
    "\n",
    "df = pd.read_csv(\"channel_values.csv\")\n",
    "df1 = pd.DataFrame(df.val.str.split(',',3).tolist(),columns = ['v1','dev_id','port','value'])\n",
    "\n",
    "df1[\"create_ts\"] = df[\"create_ts\"]\n",
    "df1['create_ts'] = df1['create_ts'].astype('datetime64[ns]')\n",
    "df1[\"value\"] = df1[\"value\"].str[:-2]\n",
    "df1[\"value\"] = df1[\"value\"].astype(float)\n",
    "df1[\"v1\"] = df1[\"v1\"].astype(int)\n",
    "df1[\"dev_id\"] = df1[\"dev_id\"].astype(str)\n",
    "df1[\"port\"] = df1[\"port\"].astype(str)\n",
    "\n",
    "df1[\"dev_id\"] = df1[\"dev_id\"].str[-8:]\n",
    "df1 = df1[df1[\"dev_id\"]==\"EC4N0003\"]\n"
   ]
  },
  {
   "cell_type": "markdown",
   "metadata": {},
   "source": [
    "### Finding Derivative"
   ]
  },
  {
   "cell_type": "code",
   "execution_count": 48,
   "metadata": {},
   "outputs": [
    {
     "data": {
      "text/plain": [
       "'\\ndf_avg = df1.groupby(\\'create_ts\\',sort=False,as_index=False).mean()\\ndf_avg[\\'diff\\'] = df_avg[\\'create_ts\\'] - df_avg[\\'create_ts\\'].shift(1)\\ndf_avg[\"diff\"] = df_avg[\"diff\"].dt.total_seconds()\\ndf_avg[\"diff\"].fillna(0,inplace=True)\\ndf_avg[\"diff\"] = df_avg[\"diff\"].astype(int)\\ndf_avg[\\'delta\\'] = df_avg[\\'value\\'] - df_avg[\\'value\\'].shift(1)\\ndf_avg[\\'derivative\\'] = df_avg[\"delta\"]/df_avg[\"diff\"]\\ndf_avg[\\'pred\\'] = np.where(df_avg[\\'derivative\\'] <=-0.1 , \"Idle\", \\n         (np.where(df_avg[\\'derivative\\'] >= 1, \"Running\", np.nan)))\\n#df_avg[\"pred\"] = np.where(df_avg[\"pred\"] == np.nan,df_avg[\"pred\"].shift(1),df_avg[\"pred\"])\\ndf_avg.to_csv(\\'Pred-3-all-derivative.csv\\') \\n'"
      ]
     },
     "execution_count": 48,
     "metadata": {},
     "output_type": "execute_result"
    }
   ],
   "source": [
    "def deriv(df1)\n",
    "    df_avg = df1.groupby('create_ts',sort=False,as_index=False).mean()\n",
    "    df_avg['diff'] = df_avg['create_ts'] - df_avg['create_ts'].shift(1)\n",
    "    df_avg[\"diff\"] = df_avg[\"diff\"].dt.total_seconds()\n",
    "    df_avg[\"diff\"].fillna(0,inplace=True)\n",
    "    df_avg[\"diff\"] = df_avg[\"diff\"].astype(int)\n",
    "    df_avg['delta'] = df_avg['value'] - df_avg['value'].shift(1)\n",
    "    df_avg['derivative'] = df_avg[\"delta\"]/df_avg[\"diff\"]\n",
    "    df_avg['pred'] = np.where(df_avg['derivative'] <=-0.1 , \"Idle\", \n",
    "             (np.where(df_avg['derivative'] >= 1, \"Running\", np.nan)))\n",
    "    return df_avg\n",
    "    #df_avg.to_csv('Pred-3-all-derivative.csv')\n",
    "\n",
    "# df = deriv(df)"
   ]
  },
  {
   "cell_type": "code",
   "execution_count": null,
   "metadata": {},
   "outputs": [],
   "source": [
    "# Maximum function\n",
    "def maximum(df1):\n",
    "\n",
    "    max_val = df1.value.max()\n",
    "    a = df1['value'].idxmax() \n",
    "    max_time = df1[\"create_ts\"][a]\n",
    "    return max_val,max_time\n",
    "\n",
    "\n",
    "max_values =[]\n",
    "max_times = []\n",
    "a,b = maximum(df1)\n",
    "max_values.append(a)\n",
    "max_times.append(b)"
   ]
  },
  {
   "cell_type": "code",
   "execution_count": null,
   "metadata": {},
   "outputs": [],
   "source": [
    "def minimum(df1):\n",
    "    min_val = df1.value.max()\n",
    "    a = df1['value'].idxmin() \n",
    "    min_time = df1[\"create_ts\"][a]\n",
    "    return min_val,min_time\n",
    "\n",
    "\n",
    "min_values =[]\n",
    "min_times = []\n",
    "a,b = maximum(df1)\n",
    "min_values.append(a)\n",
    "min_times.append(b)'"
   ]
  },
  {
   "cell_type": "code",
   "execution_count": null,
   "metadata": {},
   "outputs": [],
   "source": [
    "def average(df1):\n",
    "    mean = df1.value.mean()\n",
    "    return mean\n",
    "\n",
    "\n",
    "avg = average(df1)\n"
   ]
  },
  {
   "cell_type": "code",
   "execution_count": null,
   "metadata": {},
   "outputs": [],
   "source": [
    "# Split based on dates\n",
    "\n",
    "def reduce(df1,time_stamp):\n",
    "    df1 = df1[df1[\"create_ts\"]>timestamp\n",
    "    return df1"
   ]
  },
  {
   "cell_type": "code",
   "execution_count": null,
   "metadata": {},
   "outputs": [],
   "source": [
    "def freq_distribution:\n",
    "    print(df1.value.value_counts())\n"
   ]
  },
  {
   "cell_type": "code",
   "execution_count": null,
   "metadata": {},
   "outputs": [],
   "source": [
    "import scipy\n",
    "from scipy import stats\n",
    "def hmean(df1):\n",
    "    return scipy.stats.hmean(df1[\"value\"])"
   ]
  },
  {
   "cell_type": "code",
   "execution_count": null,
   "metadata": {},
   "outputs": [],
   "source": [
    "# Standard deviation\n",
    "def stddev(df1):\n",
    "    std = np.std(df1[\"value\"])\n",
    "    return std"
   ]
  },
  {
   "cell_type": "code",
   "execution_count": 55,
   "metadata": {},
   "outputs": [
    {
     "data": {
      "text/plain": [
       "'\\n# Additional functions\\n\\n# Maximum\\ndef maximum(df1):\\n\\n    max_val = df1.value.max()\\n    a = df1[\\'value\\'].idxmax() \\n    max_time = df1[\"create_ts\"][a]\\n    return max_val,max_time\\n\\n# Minimum\\ndef minimum(df1):\\n    min_val = df1.value.max()\\n    a = df1[\\'value\\'].idxmin() \\n    min_time = df1[\"create_ts\"][a]\\n    return min_val,min_time\\n\\n# Mean\\ndef average(df1):\\n    mean = df1.value.mean()\\n    return mean\\n\\n# 99th percentile\\ndf1.value.quantile(0.99)\\n\\n# Distribution\\ndf1.value.value_counts(bins=9)\\n\\n# Occurance counts\\ndf1.value.value_counts()\\n\\n\\n# Standard Deviation\\ndef stddev(df1):\\n    std = np.std(df1[\"value\"])\\n    return std\\n\\n# Harmonic mean\\n\\nimport scipy\\nfrom scipy import stats\\ndef hmean(df1):\\n    return scipy.stats.hmean(df1[\"value\"])\\n    \\n\\n# Split based on dates\\n\\ndef reduce(df1,time_stamp):\\n    df1 = df1[df1[\"create_ts\"]>\"2020-10-21 17:21:09\"\\n    df1 = df1[df1[\"create_ts\"]<\"2020-10-21 17:21:09\"\\n    return df1\\n'"
      ]
     },
     "execution_count": 55,
     "metadata": {},
     "output_type": "execute_result"
    }
   ],
   "source": [
    "'''\n",
    "# Additional functions\n",
    "\n",
    "# Maximum\n",
    "def maximum(df1):\n",
    "\n",
    "    max_val = df1.value.max()\n",
    "    a = df1['value'].idxmax() \n",
    "    max_time = df1[\"create_ts\"][a]\n",
    "    return max_val,max_time\n",
    "\n",
    "# Minimum\n",
    "def minimum(df1):\n",
    "    min_val = df1.value.max()\n",
    "    a = df1['value'].idxmin() \n",
    "    min_time = df1[\"create_ts\"][a]\n",
    "    return min_val,min_time\n",
    "\n",
    "# Mean\n",
    "def average(df1):\n",
    "    mean = df1.value.mean()\n",
    "    return mean\n",
    "\n",
    "# 99th percentile\n",
    "df1.value.quantile(0.99)\n",
    "\n",
    "# Distribution\n",
    "df1.value.value_counts(bins=9)\n",
    "\n",
    "# Occurance counts\n",
    "df1.value.value_counts()\n",
    "\n",
    "\n",
    "# Standard Deviation\n",
    "def stddev(df1):\n",
    "    std = np.std(df1[\"value\"])\n",
    "    return std\n",
    "\n",
    "# Harmonic mean\n",
    "\n",
    "import scipy\n",
    "from scipy import stats\n",
    "def hmean(df1):\n",
    "    return scipy.stats.hmean(df1[\"value\"])\n",
    "    \n",
    "# Split based on dates\n",
    "\n",
    "def reduce(df1,time_stamp):\n",
    "    df1 = df1[df1[\"create_ts\"]>\"2020-10-21 17:21:09\"\n",
    "    df1 = df1[df1[\"create_ts\"]<\"2020-10-21 17:21:09\"\n",
    "    return df1\n",
    "\n",
    "'''"
   ]
  },
  {
   "cell_type": "code",
   "execution_count": null,
   "metadata": {},
   "outputs": [],
   "source": [
    "\n"
   ]
  },
  {
   "cell_type": "code",
   "execution_count": null,
   "metadata": {},
   "outputs": [],
   "source": []
  },
  {
   "cell_type": "code",
   "execution_count": null,
   "metadata": {},
   "outputs": [],
   "source": []
  },
  {
   "cell_type": "code",
   "execution_count": null,
   "metadata": {},
   "outputs": [],
   "source": []
  },
  {
   "cell_type": "code",
   "execution_count": null,
   "metadata": {},
   "outputs": [],
   "source": []
  },
  {
   "cell_type": "code",
   "execution_count": null,
   "metadata": {},
   "outputs": [],
   "source": []
  },
  {
   "cell_type": "code",
   "execution_count": null,
   "metadata": {},
   "outputs": [],
   "source": []
  },
  {
   "cell_type": "code",
   "execution_count": null,
   "metadata": {},
   "outputs": [],
   "source": []
  },
  {
   "cell_type": "code",
   "execution_count": null,
   "metadata": {},
   "outputs": [],
   "source": []
  },
  {
   "cell_type": "code",
   "execution_count": null,
   "metadata": {},
   "outputs": [],
   "source": []
  },
  {
   "cell_type": "code",
   "execution_count": null,
   "metadata": {},
   "outputs": [],
   "source": []
  }
 ],
 "metadata": {
  "kernelspec": {
   "display_name": "Python 3",
   "language": "python",
   "name": "python3"
  },
  "language_info": {
   "codemirror_mode": {
    "name": "ipython",
    "version": 3
   },
   "file_extension": ".py",
   "mimetype": "text/x-python",
   "name": "python",
   "nbconvert_exporter": "python",
   "pygments_lexer": "ipython3",
   "version": "3.8.3"
  }
 },
 "nbformat": 4,
 "nbformat_minor": 4
}
